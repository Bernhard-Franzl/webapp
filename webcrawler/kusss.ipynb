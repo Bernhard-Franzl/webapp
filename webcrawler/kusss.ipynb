{
 "cells": [
  {
   "cell_type": "code",
   "execution_count": 1,
   "metadata": {},
   "outputs": [],
   "source": [
    "import requests\n",
    "from bs4 import BeautifulSoup\n",
    "import re\n",
    "import pandas as pd"
   ]
  },
  {
   "cell_type": "markdown",
   "metadata": {},
   "source": [
    "### Start from Kusss Course Catalog and navigate to the curriculum of one Program"
   ]
  },
  {
   "cell_type": "code",
   "execution_count": 2,
   "metadata": {},
   "outputs": [],
   "source": [
    "def get_study_program_dropdown_element(base_url_kusss):\n",
    "    # thats where we start from -> the kusss page of the course catalogue\n",
    "    url_course_catalog = base_url_kusss + \"coursecatalogue-start.action\"\n",
    "\n",
    "    page_course_catalog = requests.get(url_course_catalog)\n",
    "    soup = BeautifulSoup(page_course_catalog.text, 'html.parser')\n",
    "    studienpläne_dropwdown = soup.find_all(\"form\")[2]\n",
    "    \n",
    "    return studienpläne_dropwdown"
   ]
  },
  {
   "cell_type": "code",
   "execution_count": 3,
   "metadata": {},
   "outputs": [],
   "source": [
    "def build_base_request_url_study_program(base_url_kusss, html_studienpläne_dropdown):\n",
    "\n",
    "    # create url to get to the html page of a specific study program\n",
    "    action = html_studienpläne_dropdown[\"action\"]\n",
    "\n",
    "    if html_studienpläne_dropdown[\"method\"] == \"get\":\n",
    "        method = \"?\"\n",
    "\n",
    "    input_name = html_studienpläne_dropdown.input[\"name\"]\n",
    "    input_value = html_studienpläne_dropdown.input[\"value\"]\n",
    "    input_string = input_name+\"=\"+input_value\n",
    "\n",
    "    select_name = html_studienpläne_dropdown.find(\"select\", {\"class\":\"dropdown\"})[\"name\"]\n",
    "\n",
    "    return base_url_kusss + action + method + input_string + \"&\" + select_name + \"=\""
   ]
  },
  {
   "cell_type": "code",
   "execution_count": 4,
   "metadata": {},
   "outputs": [],
   "source": [
    "def get_study_program_details(html_studienpläne_dropdown):\n",
    "    \n",
    "    # get all the names and id values of all study programs\n",
    "    studiengang_dict = {}\n",
    "    for studiengang in html_studienpläne_dropdown.findAll(\"option\", {\"class\":\"dropdownentry\"})[1:]:\n",
    "        name_studiengang = \" \".join([x for x in re.split(\"\\n|\\t| \", studiengang.get_text()) if x!=\"\"])\n",
    "        studiengang_dict[name_studiengang] = studiengang[\"value\"]\n",
    "\n",
    "    return studiengang_dict"
   ]
  },
  {
   "cell_type": "code",
   "execution_count": 5,
   "metadata": {},
   "outputs": [],
   "source": [
    "#base_url_kusss = \"https://www.kusss.jku.at/kusss/\"\n",
    "\n",
    "#html_element_studienpläne_dropdown = get_study_program_dropdown_element(base_url_kusss)\n",
    "\n",
    "#study_program_dict = get_study_program_details(html_element_studienpläne_dropdown)\n",
    "\n",
    "#study_program_id = \"201\"\n",
    "\n",
    "#request_url_studiengang = build_base_request_url_study_program(base_url_kusss,html_element_studienpläne_dropdown)\n",
    "\n",
    "#request_url_studiengang += study_program_id"
   ]
  },
  {
   "cell_type": "markdown",
   "metadata": {},
   "source": [
    "### Get all courses of one study program"
   ]
  },
  {
   "cell_type": "code",
   "execution_count": 6,
   "metadata": {},
   "outputs": [],
   "source": [
    "def get_all_lva_names_urls(request_url_study_program):\n",
    "    page_course_catalog = requests.get(request_url_study_program)\n",
    "    soup_studiengang = BeautifulSoup(page_course_catalog.text, 'html.parser')\n",
    "\n",
    "    # all LVA names and urls in a Curriculum\n",
    "    lva_elements = soup_studiengang.find_all(\"a\", href=re.compile(\"coursecatalogue-get-courseclasses.action?\"))\n",
    "\n",
    "    # store all names and urls in dictionary\n",
    "    dict_lva = dict()\n",
    "    for lva in lva_elements:\n",
    "        name = \" \".join([x for x in re.split(\" \", lva.get_text()) if x!=\"\"])\n",
    "        dict_lva[name] = lva[\"href\"]\n",
    "\n",
    "    return dict_lva\n",
    "\n",
    "#get_all_lva_names_urls(request_url_studiengang)"
   ]
  },
  {
   "cell_type": "code",
   "execution_count": 7,
   "metadata": {},
   "outputs": [],
   "source": [
    "#name_lva = 'VL Mathematik 1' # 'VL Mathematik 2'\n",
    "#url_lva = 'coursecatalogue-get-courseclasses.action?curId=201&segId=1&grpCode=43383' # 'coursecatalogue-get-courseclasses.action?curId=201&segId=1&grpCode=43385'"
   ]
  },
  {
   "cell_type": "code",
   "execution_count": 8,
   "metadata": {},
   "outputs": [],
   "source": [
    "#base_url_kusss + url_lva"
   ]
  },
  {
   "cell_type": "markdown",
   "metadata": {},
   "source": [
    "### Get to registration page of the course and extract infos"
   ]
  },
  {
   "cell_type": "code",
   "execution_count": 9,
   "metadata": {},
   "outputs": [],
   "source": [
    "def clean_string_lva_details(string, delimiters):\n",
    "    return \" \".join([x for x in re.split(delimiters, string) if x!=\"\"])\n",
    "    \n",
    "def clean_string_lva_dates(string, delimiter):\n",
    "    return re.split(delimiter, string)"
   ]
  },
  {
   "cell_type": "code",
   "execution_count": 60,
   "metadata": {},
   "outputs": [],
   "source": [
    "def get_lva_meta_data(base_url_kusss, lva_url):\n",
    "\n",
    "    # harvest all the information from the lva overview page\n",
    "    lva_page = requests.get(base_url_kusss+lva_url)\n",
    "    soup_lva_page = BeautifulSoup(lva_page.text, 'html.parser')\n",
    "\n",
    "    lva_info = soup_lva_page.find_all(\"table\")[-1].find_all(\"td\")\n",
    "\n",
    "    lva_type = lva_info[0].get_text()\n",
    "    lva_url_registration_page = lva_info[1].a[\"href\"]\n",
    "    lva_number_of_groups = int(lva_info[2].get_text())\n",
    "\n",
    "    # check if the course is held in the current semester\n",
    "    if lva_number_of_groups == 0:\n",
    "        #print(\"Course not held in the current semster!\")\n",
    "        return None\n",
    "    \n",
    "    # harvest all the information from the lva registration page\n",
    "    base_url_kusss + lva_url_registration_page\n",
    "    \n",
    "    lva_registration_page = requests.get(base_url_kusss + lva_url_registration_page)\n",
    "    soup_lva_registration_page = BeautifulSoup(lva_registration_page.text, 'html.parser')\n",
    "\n",
    "    lva_registration_table = soup_lva_registration_page.find_all(\"table\")[3]\n",
    "    lva_details = lva_registration_table.findAll(\"td\", {\"align\":\"center\"})\n",
    "\n",
    "    # extract all inforamtion from lva details table\n",
    "    lva_number = \" \".join([x for x in re.split(\"\\n|\\t| \", lva_details[0].get_text()) if x!=\"\"])\n",
    "    max_number_students = int(clean_string_lva_details(lva_details[1].getText(), \"\\n|\\t| \"))\n",
    "    enrolled_students = int(clean_string_lva_details(lva_details[-2].getText(), \"\\n|\\t| \"))\n",
    "\n",
    "    lva_dates_url = lva_details[0].a[\"href\"]\n",
    "\n",
    "    \n",
    "\n",
    "    return lva_number, lva_type, max_number_students, enrolled_students, lva_dates_url\n",
    "\n",
    "\n",
    "def get_lva_dates_details(base_url_kusss, lva_nr, lva_dates_url, study_program_name):\n",
    "\n",
    "    lva_details_page = requests.get(base_url_kusss + lva_dates_url)\n",
    "    soup_lva_details_page = BeautifulSoup(lva_details_page.text, 'html.parser')\n",
    "\n",
    "    # dataframe where all the dates are stored\n",
    "    dates_dataframe = pd.DataFrame(columns=[\"LVA-Nummer\", \"Wochentag\", \"Datum\", \"Startzeit\", \"Endzeit\", \"Ort\", \"Anmerkung\", \"Studiengang\"])\n",
    "\n",
    "    lva_dates = []\n",
    "    date_list_uncleaned = soup_lva_details_page.find_all(\"table\")[6].find_all(\"tr\")[1:-1]\n",
    "\n",
    "    for idx in range(len(date_list_uncleaned)-1):\n",
    "\n",
    "        date_info = [x.strip() for x in clean_string_lva_dates(date_list_uncleaned[idx].get_text(), \"\\n|\\t|–\") if x!=\"\"]   \n",
    "        \n",
    "        if idx%2==0:\n",
    "            if len(date_info) < 5:\n",
    "                helper = [\" \"] * (5 - len(date_info))\n",
    "                date_info += helper\n",
    "\n",
    "            dates_dataframe.loc[len(dates_dataframe)] =   [lva_nr, date_info[0], date_info[1], date_info[2], date_info[3], date_info[4], \"\", study_program_name]\n",
    "            lva_dates.append([date_info[0], date_info[1], date_info[2], date_info[3], date_info[4], \"\"])\n",
    "\n",
    "        else:\n",
    "            if len(date_info) != 0:\n",
    "                dates_dataframe[\"Anmerkung\"][idx//2] = \" \".join(date_info)\n",
    "                lva_dates[idx//2][-1] = \" \".join(date_info)\n",
    "\n",
    "    return dates_dataframe\n"
   ]
  },
  {
   "cell_type": "code",
   "execution_count": 61,
   "metadata": {},
   "outputs": [],
   "source": [
    "base_url_kusss = \"https://www.kusss.jku.at/kusss/\"\n",
    "\n",
    "html_element_studienpläne_dropdown = get_study_program_dropdown_element(base_url_kusss)\n",
    "\n",
    "study_program_dict = get_study_program_details(html_element_studienpläne_dropdown)\n",
    "\n",
    "lva_dataframe = pd.DataFrame(columns=[\"LVA-Nummer\", \"LVA-Name\", \"LVA-Typ\", \"Kapazität\", \"Anmeldungen\", \"URL\", \"Studiengang\", \"Studiengang Nummer Kusss\"])\n",
    "dates_dataframe = pd.DataFrame(columns=[\"LVA-Nummer\", \"Wochentag\", \"Datum\", \"Startzeit\", \"Endzeit\", \"Ort\", \"Anmerkung\", \"Studiengang\"])\n",
    "\n",
    "for study_program_name in study_program_dict:\n",
    "\n",
    "    study_program_id = study_program_dict[study_program_name]\n",
    "    request_url_studiengang = build_base_request_url_study_program(base_url_kusss,html_element_studienpläne_dropdown)\n",
    "    request_url_studiengang += study_program_id\n",
    "\n",
    "    lva_dict = get_all_lva_names_urls(request_url_studiengang)\n",
    "\n",
    "    for lva_name in lva_dict:\n",
    "        lva_url = lva_dict[lva_name] \n",
    "        res = get_lva_meta_data(base_url_kusss, lva_url)\n",
    "        if res is None:\n",
    "            continue\n",
    "        else:\n",
    "            lva_number, lva_type, max_number_students, enrolled_students, lva_dates_url = get_lva_meta_data(base_url_kusss, lva_url)\n",
    "            lva_dataframe.loc[len(lva_dataframe)] = [lva_number, lva_name, lva_type, max_number_students, enrolled_students, lva_dates_url, study_program_name, study_program_id]\n",
    "\n",
    "            current_lva_dates_df = get_lva_dates_details(base_url_kusss, lva_number, lva_dates_url, study_program_name)\n",
    "            dates_dataframe = pd.concat([dates_dataframe, current_lva_dates_df])\n",
    "\n",
    "    dates_dataframe.to_csv(\"dates.csv\")\n",
    "    lva_dataframe.to_csv(\"lva.csv\")"
   ]
  },
  {
   "cell_type": "code",
   "execution_count": null,
   "metadata": {},
   "outputs": [],
   "source": []
  }
 ],
 "metadata": {
  "kernelspec": {
   "display_name": "web-scraping",
   "language": "python",
   "name": "python3"
  },
  "language_info": {
   "codemirror_mode": {
    "name": "ipython",
    "version": 3
   },
   "file_extension": ".py",
   "mimetype": "text/x-python",
   "name": "python",
   "nbconvert_exporter": "python",
   "pygments_lexer": "ipython3",
   "version": "3.11.6"
  },
  "orig_nbformat": 4
 },
 "nbformat": 4,
 "nbformat_minor": 2
}
